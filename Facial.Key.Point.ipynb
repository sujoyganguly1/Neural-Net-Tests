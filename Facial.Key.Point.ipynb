{
 "cells": [
  {
   "cell_type": "markdown",
   "metadata": {},
   "source": [
    "## Facial Keypoint Analysis - A Tutorial Code\n",
    "Here I will use a Convolutional Neural Net to indetify the facial keypoints.\n",
    "For each image we indetify 15 facial keypoints, e.g., the location of the eyes and the nose.\n",
    "\n",
    "The training and test data come from kaggle-facial-keypoint-detection"
   ]
  },
  {
   "cell_type": "code",
   "execution_count": 9,
   "metadata": {
    "collapsed": false
   },
   "outputs": [],
   "source": [
    "from __future__ import print_function\n",
    "\n",
    "import sys\n",
    "import os\n",
    "import time\n",
    "\n",
    "import numpy as np\n",
    "import theano\n",
    "import theano.tensor as T\n",
    "import matplotlib.pyplot as plt\n",
    "\n",
    "import lasagne\n",
    "\n",
    "from pandas.io.parsers import read_csv\n",
    "from sklearn.utils import shuffle\n",
    "from types import *\n",
    "from nolearn.lasagne import NeuralNet\n",
    "\n",
    "%matplotlib inline"
   ]
  },
  {
   "cell_type": "markdown",
   "metadata": {},
   "source": [
    "# Import Data and convert to the correct format"
   ]
  },
  {
   "cell_type": "code",
   "execution_count": 10,
   "metadata": {
    "collapsed": true
   },
   "outputs": [],
   "source": [
    "FTRAIN = '~/Documents/Python_test_deeplearning/kaggle_data/training.csv'\n",
    "FTEST = '~/Documents/Python_test_deeplearning/kaggle_data/test.csv'"
   ]
  },
  {
   "cell_type": "code",
   "execution_count": 11,
   "metadata": {
    "collapsed": true
   },
   "outputs": [],
   "source": [
    "def load(test=False, cols=None):\n",
    "    \"\"\"Loads data from FTEST if *test* is True, otherwise from FTRAIN.\n",
    "    Pass a list of *cols* if you're only interested in a subset of the\n",
    "    target columns.\n",
    "    \"\"\"\n",
    "    fname = FTEST if test else FTRAIN\n",
    "    df = read_csv(os.path.expanduser(fname))  # load pandas dataframe\n",
    "\n",
    "    # The Image column has pixel values separated by space; convert\n",
    "    # the values to numpy arrays:\n",
    "    df['Image'] = df['Image'].apply(lambda im: np.fromstring(im, sep=' '))\n",
    "\n",
    "    if cols:  # get a subset of columns\n",
    "        df = df[list(cols) + ['Image']]\n",
    "\n",
    "    print(df.count())  # prints the number of values for each column\n",
    "    df = df.dropna()  # drop all rows that have missing values in them\n",
    "\n",
    "    X = np.vstack(df['Image'].values) / 255.  # scale pixel values to [0, 1]\n",
    "    X = X.astype(np.float32)\n",
    "\n",
    "    if not test:  # only FTRAIN has any target columns How do we do validation then?\n",
    "        y = df[df.columns[:-1]].values\n",
    "        y = (y - 48) / 48  # scale target coordinates to [-1, 1]\n",
    "        X, y = shuffle(X, y, random_state=42)  # shuffle train data\n",
    "        y = y.astype(np.float32)\n",
    "    else:\n",
    "        y = None\n",
    "\n",
    "    return X, y"
   ]
  },
  {
   "cell_type": "markdown",
   "metadata": {},
   "source": [
    "Here is the 2d loader. This makes X a stack of images each 96X96"
   ]
  },
  {
   "cell_type": "code",
   "execution_count": 12,
   "metadata": {
    "collapsed": true
   },
   "outputs": [],
   "source": [
    "def load2d(test=False, cols=None):\n",
    "    X, y = load(test=test)\n",
    "    X = X.reshape(-1, 1, 96, 96)\n",
    "    return X, y"
   ]
  },
  {
   "cell_type": "markdown",
   "metadata": {},
   "source": [
    "### Load Data"
   ]
  },
  {
   "cell_type": "code",
   "execution_count": 20,
   "metadata": {
    "collapsed": false
   },
   "outputs": [
    {
     "name": "stdout",
     "output_type": "stream",
     "text": [
      "left_eye_center_x            7039\n",
      "left_eye_center_y            7039\n",
      "right_eye_center_x           7036\n",
      "right_eye_center_y           7036\n",
      "left_eye_inner_corner_x      2271\n",
      "left_eye_inner_corner_y      2271\n",
      "left_eye_outer_corner_x      2267\n",
      "left_eye_outer_corner_y      2267\n",
      "right_eye_inner_corner_x     2268\n",
      "right_eye_inner_corner_y     2268\n",
      "right_eye_outer_corner_x     2268\n",
      "right_eye_outer_corner_y     2268\n",
      "left_eyebrow_inner_end_x     2270\n",
      "left_eyebrow_inner_end_y     2270\n",
      "left_eyebrow_outer_end_x     2225\n",
      "left_eyebrow_outer_end_y     2225\n",
      "right_eyebrow_inner_end_x    2270\n",
      "right_eyebrow_inner_end_y    2270\n",
      "right_eyebrow_outer_end_x    2236\n",
      "right_eyebrow_outer_end_y    2236\n",
      "nose_tip_x                   7049\n",
      "nose_tip_y                   7049\n",
      "mouth_left_corner_x          2269\n",
      "mouth_left_corner_y          2269\n",
      "mouth_right_corner_x         2270\n",
      "mouth_right_corner_y         2270\n",
      "mouth_center_top_lip_x       2275\n",
      "mouth_center_top_lip_y       2275\n",
      "mouth_center_bottom_lip_x    7016\n",
      "mouth_center_bottom_lip_y    7016\n",
      "Image                        7049\n",
      "dtype: int64\n",
      "ImageId    1783\n",
      "Image      1783\n",
      "dtype: int64\n"
     ]
    }
   ],
   "source": [
    "X_train, y_train = load2d()\n",
    "X_test, y_test = load2d(test=True)\n",
    "# Create a dataset dictionary for convenience\n",
    "dataset = {\n",
    "    'train': {'X': X_train, 'y': y_train},\n",
    "    'test': {'X':X_test,'y': y_test}}"
   ]
  },
  {
   "cell_type": "code",
   "execution_count": 14,
   "metadata": {
    "collapsed": false
   },
   "outputs": [
    {
     "name": "stdout",
     "output_type": "stream",
     "text": [
      "X shape (train) == (2140, 1, 96, 96); X min == 0.000; X max == 1.000\n",
      "y shape (train) == (2140, 30); y min == -0.920; y max == 0.996\n",
      "X shape (test) == (1783, 1, 96, 96); X min == 0.000; X max == 1.000\n"
     ]
    }
   ],
   "source": [
    "print(\"X shape (train) == {}; X min == {:.3f}; X max == {:.3f}\".format(\n",
    "    dataset['train']['X'].shape, dataset['train']['X'].min(), dataset['train']['X'].max()))\n",
    "print(\"y shape (train) == {}; y min == {:.3f}; y max == {:.3f}\".format(\n",
    "    dataset['train']['y'].shape, dataset['train']['y'].min(), dataset['train']['y'].max()))\n",
    "print(\"X shape (test) == {}; X min == {:.3f}; X max == {:.3f}\".format(\n",
    "    dataset['test']['X'].shape, dataset['test']['X'].min(), dataset['test']['X'].max()))"
   ]
  },
  {
   "cell_type": "markdown",
   "metadata": {},
   "source": [
    "### Plot Example"
   ]
  },
  {
   "cell_type": "code",
   "execution_count": 8,
   "metadata": {
    "collapsed": false
   },
   "outputs": [
    {
     "data": {
      "image/png": "[encoded data removed]",
      "text/plain": [
       "<matplotlib.figure.Figure at 0x10a57b090>"
      ]
     },
     "metadata": {},
     "output_type": "display_data"
    }
   ],
   "source": [
    "plt.imshow(dataset['train']['X'][12][0], interpolation='nearest', cmap=plt.cm.gray)\n",
    "plt.scatter(dataset['train']['y'][12][0::2] * 48 + 48, dataset['train']['y'][12][1::2] * 48 + 48, marker='x', s=10)\n",
    "plt.title(\"Facial feature positions\")\n",
    "plt.gca().set_axis_off()"
   ]
  },
  {
   "cell_type": "markdown",
   "metadata": {},
   "source": [
    "## Build A Neural Net with No Learn\n",
    "We will use nolearns NeuralNet function which has the advantage of automatic history functions\n",
    "Lets use 3 convolutional layers and 2 hidden layers with drop out\n",
    "1. Convolutional layer 1 \n",
    "> has 32 filters and 3x3 field.\n",
    "This layer is pooled using max pooling with a pool size of 2\n",
    "2. Convolutional layer 2 has 64 filters and a 2x2 field\n",
    "> has 64 filters and a 2x2 field\n",
    "this layer is pooled using max pooling with a pool size of 2\n",
    "3. Convolutional layer 2 \n",
    "> has 128 filters and a 2x2 field \n",
    "this layer is pooled using max pooling with a pool size of 2\n",
    "4. Hidden layer 1\n",
    "> has 500 units and a dropout of 70%\n",
    "5. Hidden layer 2\n",
    "> has 500 units and a dropout of 20%\n",
    "6. Output layer \n",
    "> has 30 elements, one for each of the facial keypoint"
   ]
  },
  {
   "cell_type": "code",
   "execution_count": 37,
   "metadata": {
    "collapsed": false
   },
   "outputs": [],
   "source": [
    "input_size = dataset['train']['X'][0].shape\n",
    "net = NeuralNet(\n",
    "    layers=[\n",
    "        ('input', lasagne.layers.InputLayer),\n",
    "        ('conv1', lasagne.layers.Conv2DLayer),\n",
    "        ('pool1', lasagne.layers.MaxPool2DLayer),\n",
    "        ('conv2', lasagne.layers.Conv2DLayer),\n",
    "        ('pool2', lasagne.layers.MaxPool2DLayer),\n",
    "        ('conv3', lasagne.layers.Conv2DLayer),\n",
    "        ('pool3', lasagne.layers.MaxPool2DLayer),\n",
    "        ('hidden4', lasagne.layers.DenseLayer),\n",
    "        ('hidden5', lasagne.layers.DenseLayer),\n",
    "        ('output', lasagne.layers.DenseLayer),\n",
    "        ],\n",
    "    input_shape=(None, input_size[0], input_size[1], input_size[2]),\n",
    "    conv1_num_filters=32, conv1_filter_size=(3, 3), pool1_pool_size=(2, 2),\n",
    "    conv2_num_filters=64, conv2_filter_size=(2, 2), pool2_pool_size=(2, 2),\n",
    "    conv3_num_filters=128, conv3_filter_size=(2, 2), pool3_pool_size=(2, 2),\n",
    "    hidden4_num_units=500, hidden5_num_units=500,\n",
    "    output_num_units=30, output_nonlinearity=None,\n",
    "    \n",
    "    update=lasagne.updates.nesterov_momentum,\n",
    "    update_learning_rate=0.01,\n",
    "    update_momentum=0.9,\n",
    "\n",
    "    regression=True,\n",
    "    max_epochs=2,\n",
    "    verbose=1,\n",
    "    )"
   ]
  },
  {
   "cell_type": "markdown",
   "metadata": {},
   "source": [
    "## Training using NuralNet function"
   ]
  },
  {
   "cell_type": "code",
   "execution_count": 38,
   "metadata": {
    "collapsed": false
   },
   "outputs": [
    {
     "name": "stdout",
     "output_type": "stream",
     "text": [
      "# Neural Network with 8051502 learnable parameters\n",
      "\n",
      "## Layer information\n",
      "\n",
      "  #  name     size\n",
      "---  -------  ---------\n",
      "  0  input    1x96x96\n",
      "  1  conv1    32x94x94\n",
      "  2  pool1    32x47x47\n",
      "  3  conv2    64x46x46\n",
      "  4  pool2    64x23x23\n",
      "  5  conv3    128x22x22\n",
      "  6  pool3    128x11x11\n",
      "  7  hidden4  500\n",
      "  8  hidden5  500\n",
      "  9  output   30\n",
      "\n",
      "  epoch    train loss    valid loss    train/val  dur\n",
      "-------  ------------  ------------  -----------  ------\n",
      "      1       \u001b[36m0.12904\u001b[0m       \u001b[32m0.08245\u001b[0m      1.56519  64.37s\n",
      "      2       \u001b[36m0.03456\u001b[0m       \u001b[32m0.01164\u001b[0m      2.96811  74.43s\n"
     ]
    },
    {
     "data": {
      "text/plain": [
       "NeuralNet(X_tensor_type=None,\n",
       "     batch_iterator_test=<nolearn.lasagne.base.BatchIterator object at 0x1196b23d0>,\n",
       "     batch_iterator_train=<nolearn.lasagne.base.BatchIterator object at 0x1196b2290>,\n",
       "     conv1_filter_size=(3, 3), conv1_num_filters=32,\n",
       "     conv2_filter_size=(2, 2), conv2_num_filters=64,\n",
       "     conv3_filter_size=(2, 2), conv3_num_filters=128, custom_scores=None,\n",
       "     hidden4_num_units=500, hidden5_num_units=500,\n",
       "     input_shape=(None, 1, 96, 96),\n",
       "     layers=[('input', <class 'lasagne.layers.input.InputLayer'>), ('conv1', <class 'lasagne.layers.conv.Conv2DLayer'>), ('pool1', <class 'lasagne.layers.pool.MaxPool2DLayer'>), ('conv2', <class 'lasagne.layers.conv.Conv2DLayer'>), ('pool2', <class 'lasagne.layers.pool.MaxPool2DLayer'>), ('conv3', <class..., <class 'lasagne.layers.dense.DenseLayer'>), ('output', <class 'lasagne.layers.dense.DenseLayer'>)],\n",
       "     loss=None, max_epochs=2, more_params={},\n",
       "     objective=<function objective at 0x1196b37d0>,\n",
       "     objective_loss_function=<function squared_error at 0x117b9c2a8>,\n",
       "     on_batch_finished=[],\n",
       "     on_epoch_finished=[<nolearn.lasagne.handlers.PrintLog instance at 0x11e576680>],\n",
       "     on_training_finished=[],\n",
       "     on_training_started=[<nolearn.lasagne.handlers.PrintLayerInfo instance at 0x11e5766c8>],\n",
       "     output_nonlinearity=None, output_num_units=30, pool1_pool_size=(2, 2),\n",
       "     pool2_pool_size=(2, 2), pool3_pool_size=(2, 2), regression=True,\n",
       "     train_split=<nolearn.lasagne.base.TrainSplit object at 0x1196b2450>,\n",
       "     update=<function nesterov_momentum at 0x117b9c938>,\n",
       "     update_learning_rate=0.01, update_momentum=0.9,\n",
       "     use_label_encoder=False, verbose=1,\n",
       "     y_tensor_type=TensorType(float64, matrix))"
      ]
     },
     "execution_count": 38,
     "metadata": {},
     "output_type": "execute_result"
    }
   ],
   "source": [
    "net.fit(dataset['train']['X'],dataset['train']['y'])"
   ]
  },
  {
   "cell_type": "code",
   "execution_count": 35,
   "metadata": {
    "collapsed": false
   },
   "outputs": [
    {
     "data": {
      "text/plain": [
       "<matplotlib.text.Text at 0x12fb91b10>"
      ]
     },
     "execution_count": 35,
     "metadata": {},
     "output_type": "execute_result"
    },
    {
     "data": {
      "image/png": "[encoded data removed]",
      "text/plain": [
       "<matplotlib.figure.Figure at 0x12fb76f50>"
      ]
     },
     "metadata": {},
     "output_type": "display_data"
    }
   ],
   "source": [
    "train_loss = np.array([i[\"train_loss\"] for i in net.train_history_])\n",
    "valid_loss = np.array([i[\"valid_loss\"] for i in net.train_history_])\n",
    "plt.plot(train_loss, linewidth=3, label=\"train\")\n",
    "plt.plot(valid_loss, linewidth=3, label=\"valid\")\n",
    "plt.grid()\n",
    "plt.legend()\n",
    "plt.xlabel(\"epoch\")\n",
    "plt.ylabel(\"loss\")"
   ]
  },
  {
   "cell_type": "code",
   "execution_count": null,
   "metadata": {
    "collapsed": true
   },
   "outputs": [],
   "source": []
  }
 ],
 "metadata": {
  "kernelspec": {
   "display_name": "Python 2",
   "language": "python",
   "name": "python2"
  },
  "language_info": {
   "codemirror_mode": {
    "name": "ipython",
    "version": 2
   },
   "file_extension": ".py",
   "mimetype": "text/x-python",
   "name": "python",
   "nbconvert_exporter": "python",
   "pygments_lexer": "ipython2",
   "version": "2.7.11"
  }
 },
 "nbformat": 4,
 "nbformat_minor": 0
}
