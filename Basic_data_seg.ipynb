{
 "cells": [
  {
   "cell_type": "markdown",
   "metadata": {},
   "source": [
    "## Using Lasagne for Data Classification"
   ]
  },
  {
   "cell_type": "code",
   "execution_count": 31,
   "metadata": {
    "collapsed": true
   },
   "outputs": [],
   "source": [
    "from __future__ import print_function\n",
    "\n",
    "import sys\n",
    "import os\n",
    "import time\n",
    "\n",
    "import numpy as np\n",
    "import theano\n",
    "import theano.tensor as T\n",
    "import matplotlib.pyplot as plt\n",
    "\n",
    "import lasagne\n",
    "import sklearn.datasets\n",
    "\n",
    "%matplotlib inline"
   ]
  },
  {
   "cell_type": "code",
   "execution_count": 32,
   "metadata": {
    "collapsed": true
   },
   "outputs": [],
   "source": [
    "n_samples = 100\n",
    "noise = 0.1"
   ]
  },
  {
   "cell_type": "markdown",
   "metadata": {},
   "source": [
    "Create some test data using sklearn's moon data set"
   ]
  },
  {
   "cell_type": "code",
   "execution_count": 33,
   "metadata": {
    "collapsed": false
   },
   "outputs": [],
   "source": [
    "np.random.seed(0)\n",
    "X, y = sklearn.datasets.make_moons(n_samples=n_samples, noise=noise)\n",
    "#  Now we have to conver the data into theano floats\n",
    "X = X.astype(theano.config.floatX)  #  data\n",
    "y = y.astype('int32')  #  labels two types"
   ]
  },
  {
   "cell_type": "code",
   "execution_count": 34,
   "metadata": {
    "collapsed": false
   },
   "outputs": [
    {
     "data": {
      "text/plain": [
       "<matplotlib.collections.PathCollection at 0x1178c4110>"
      ]
     },
     "execution_count": 34,
     "metadata": {},
     "output_type": "execute_result"
    },
    {
     "data": {
      "image/png": "[encoded data removed]",
      "text/plain": [
       "<matplotlib.figure.Figure at 0x1177eda90>"
      ]
     },
     "metadata": {},
     "output_type": "display_data"
    }
   ],
   "source": [
    "plt.scatter(X[:, 0], X[:, 1], c=y)  # scatter plot of the data with the color as the label"
   ]
  },
  {
   "cell_type": "markdown",
   "metadata": {},
   "source": [
    "## Here is where we start to build our network"
   ]
  },
  {
   "cell_type": "code",
   "execution_count": 35,
   "metadata": {
    "collapsed": true
   },
   "outputs": [],
   "source": [
    "input_var = T.matrix('inputs')  # Is this thre correct type? \n",
    "target_var = T.ivector('targets')  # This should have the same type as y?"
   ]
  },
  {
   "cell_type": "markdown",
   "metadata": {},
   "source": [
    "We define a network with one hidden layer [l_hidden].\n",
    "The algebra of the network is\n",
    "\\begin{align}\n",
    "z_1 &=& {\\bf W}_1* x + b_1\\\\\n",
    "z_2 &=& {\\bf W}_2 * \\tanh(z_1) + b_2\\\\\n",
    "y_{\\text{pred}} &=& softmax(z_2)\n",
    "\\end{align}"
   ]
  },
  {
   "cell_type": "code",
   "execution_count": 47,
   "metadata": {
    "collapsed": true
   },
   "outputs": [],
   "source": [
    "l_in = lasagne.layers.InputLayer(shape=(None, 2), input_var=None)\n",
    "# We'll create a network with two dense layers: A tanh hidden layer and a softmax output layer.\n",
    "l_hidden = lasagne.layers.DenseLayer(# The first argument is the input layer\n",
    "                l_in,\n",
    "                # This defines the layer's output dimensionality\n",
    "                num_units=10,\n",
    "                # Various nonlinearities are available\n",
    "                nonlinearity=lasagne.nonlinearities.tanh,\n",
    "                # intialize the weigths\n",
    "                W=lasagne.init.GlorotUniform())\n",
    "# For our output layer, we'll use a dense layer with a softmax nonlinearity.\n",
    "l_output = lasagne.layers.DenseLayer(l_hidden, num_units=2, nonlinearity=lasagne.nonlinearities.softmax)"
   ]
  },
  {
   "cell_type": "code",
   "execution_count": 48,
   "metadata": {
    "collapsed": false
   },
   "outputs": [],
   "source": [
    "prediction = lasagne.layers.get_output(l_output) #  prediction of network y_pred"
   ]
  },
  {
   "cell_type": "markdown",
   "metadata": {},
   "source": [
    "## Now we define the training functions "
   ]
  },
  {
   "cell_type": "markdown",
   "metadata": {},
   "source": [
    "Catogorical Cross entropy is defined as \n",
    "\\begin{equation}\n",
    "S_i = -\\sum_j t_{ij} \\log(p_{ij})\n",
    "\\end{equation}\n",
    "we will take the average cross entropy as our loss function\n",
    "\\begin{equation}\n",
    "L = \\langle S_i\\rangle_i \n",
    "\\end{equation}"
   ]
  },
  {
   "cell_type": "code",
   "execution_count": 49,
   "metadata": {
    "collapsed": true
   },
   "outputs": [],
   "source": [
    "# Categorical cross entropy as loss function to be minimized\n",
    "S = lasagne.objectives.categorical_crossentropy(prediction, target_var) \n",
    "loss = S.mean()"
   ]
  },
  {
   "cell_type": "markdown",
   "metadata": {},
   "source": [
    "We now have a loss function $$L(W,b),$$ which is a function of the network weights $W$ and the offset $b$.\n",
    "The challenge is then to minmize $L$ with repect to $W$ and $b$.\n",
    "\n",
    "We decide to do this with a stochastic gradient descent with nesterov momentum"
   ]
  },
  {
   "cell_type": "code",
   "execution_count": 50,
   "metadata": {
    "collapsed": true
   },
   "outputs": [],
   "source": [
    "# Create update expersssions\n",
    "params = lasagne.layers.get_all_params(l_output, trainable=True)\n",
    "# Gradient desent\n",
    "updates = lasagne.updates.nesterov_momentum(loss, params, learning_rate=0.1, momentum=0.9)"
   ]
  },
  {
   "cell_type": "markdown",
   "metadata": {},
   "source": [
    "We need to make a theano function that takes the inputs of the data and the target and returns the loss with the option to update as needed"
   ]
  },
  {
   "cell_type": "code",
   "execution_count": 51,
   "metadata": {
    "collapsed": false
   },
   "outputs": [],
   "source": [
    "train_fn = theano.function(inputs=[l_in.input_var, target_var], outputs=loss, updates=updates)"
   ]
  },
  {
   "cell_type": "code",
   "execution_count": 52,
   "metadata": {
    "collapsed": false
   },
   "outputs": [],
   "source": [
    "for n in xrange(n_samples):\n",
    "    train_fn(X, y)"
   ]
  },
  {
   "cell_type": "code",
   "execution_count": 53,
   "metadata": {
    "collapsed": false
   },
   "outputs": [],
   "source": [
    "get_output = theano.function([l_in.input_var], prediction)"
   ]
  },
  {
   "cell_type": "code",
   "execution_count": 54,
   "metadata": {
    "collapsed": true
   },
   "outputs": [],
   "source": [
    "y_predicted = np.argmax(get_output(X), axis=1)"
   ]
  },
  {
   "cell_type": "code",
   "execution_count": 59,
   "metadata": {
    "collapsed": false
   },
   "outputs": [
    {
     "data": {
      "text/plain": [
       "<matplotlib.text.Text at 0x117fd4050>"
      ]
     },
     "execution_count": 59,
     "metadata": {},
     "output_type": "execute_result"
    },
    {
     "data": {
      "image/png": "[encoded data removed]",
      "text/plain": [
       "<matplotlib.figure.Figure at 0x117f2f810>"
      ]
     },
     "metadata": {},
     "output_type": "display_data"
    }
   ],
   "source": [
    "plt.scatter(X[:, 0], X[:, 1], c=(y != y_predicted), cmap=plt.cm.gray_r)\n",
    "plt.title(\"Accuracy: {}%\".format(100*np.mean(y == y_predicted)))"
   ]
  },
  {
   "cell_type": "code",
   "execution_count": null,
   "metadata": {
    "collapsed": true
   },
   "outputs": [],
   "source": []
  }
 ],
 "metadata": {
  "kernelspec": {
   "display_name": "Python 2",
   "language": "python",
   "name": "python2"
  },
  "language_info": {
   "codemirror_mode": {
    "name": "ipython",
    "version": 2
   },
   "file_extension": ".py",
   "mimetype": "text/x-python",
   "name": "python",
   "nbconvert_exporter": "python",
   "pygments_lexer": "ipython2",
   "version": "2.7.11"
  }
 },
 "nbformat": 4,
 "nbformat_minor": 0
}
