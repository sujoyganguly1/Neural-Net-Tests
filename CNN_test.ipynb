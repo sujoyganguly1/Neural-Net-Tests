{
 "cells": [
  {
   "cell_type": "markdown",
   "metadata": {},
   "source": [
    "# Convolutional Neural Net\n",
    "In this notebook we will build a convolutional neural net (CNN) to classify handwritten numbers.\n",
    "To do this we will use the mnist data set.\n",
    "\n",
    "CNNs exploit spatially-local correlation by enforcing a local connectivity pattern between neurons of adjacent layers. This is like the retina, but in a computer."
   ]
  },
  {
   "cell_type": "code",
   "execution_count": 51,
   "metadata": {
    "collapsed": false
   },
   "outputs": [],
   "source": [
    "import theano\n",
    "import theano.tensor as T\n",
    "import lasagne\n",
    "import numpy as np\n",
    "\n",
    "# import sklearn.datasets\n",
    "from __future__ import print_function\n",
    "import os\n",
    "import sys\n",
    "import matplotlib.pyplot as plt\n",
    "\n",
    "%matplotlib inline\n",
    "import IPython.display\n",
    "from time import sleep"
   ]
  },
  {
   "cell_type": "markdown",
   "metadata": {},
   "source": [
    "Import the data loader from mnist.py"
   ]
  },
  {
   "cell_type": "code",
   "execution_count": 36,
   "metadata": {
    "collapsed": true
   },
   "outputs": [],
   "source": [
    "from mnist import load_dataset"
   ]
  },
  {
   "cell_type": "markdown",
   "metadata": {},
   "source": [
    "Load the training, validation and test data"
   ]
  },
  {
   "cell_type": "code",
   "execution_count": 37,
   "metadata": {
    "collapsed": false
   },
   "outputs": [],
   "source": [
    "X_train, y_train, X_valid, y_valid, X_test, y_test = load_dataset()\n",
    "# Create a dataset dictionary for convenience\n",
    "dataset = {\n",
    "    'train': {'X': X_train, 'y': y_train},\n",
    "    'valid': {'X': X_valid, 'y': y_valid}}"
   ]
  },
  {
   "cell_type": "markdown",
   "metadata": {},
   "source": [
    "This data set has 50000 examples for training. \n",
    "X_train is (50000, 1, 28, 28) and contains the 50000 images, each of which is gray scale (n_channels = 1) and 28x28 pixels.\n",
    "y_train is 50000, is a vector of numbers from 0-9 that are the labels."
   ]
  },
  {
   "cell_type": "markdown",
   "metadata": {},
   "source": [
    "Plot an example digit with its label"
   ]
  },
  {
   "cell_type": "code",
   "execution_count": 39,
   "metadata": {
    "collapsed": false,
    "scrolled": true
   },
   "outputs": [
    {
     "data": {
      "image/png": "[encoded data removed]",
      "text/plain": [
       "<matplotlib.figure.Figure at 0x10d3f6410>"
      ]
     },
     "metadata": {},
     "output_type": "display_data"
    }
   ],
   "source": [
    "plt.imshow(dataset['train']['X'][12][0], interpolation='nearest', cmap=plt.cm.gray)\n",
    "plt.title(\"Label: {}\".format(dataset['train']['y'][12]))\n",
    "plt.gca().set_axis_off()"
   ]
  },
  {
   "cell_type": "markdown",
   "metadata": {},
   "source": [
    "# Build the neural net\n",
    "Input layer has the shape of the data\n",
    "## Convolution Layer\n",
    "The basic 2D convolutional layer in Lasagne is Conv2DLayer. The layer works by convolution of the input layer with a linear filter adding a bias term and then applying a non-linear function.\n",
    "This generates a feature map\n",
    "We are using 32 learnable convolutional filters for this layer. Each layer has a 5x5 receptor field. \n",
    "## MaxPooling\n",
    "Max-pooling partitions the input image into a set of non-overlapping rectangles and, for each such sub-region, outputs the maximum value."
   ]
  },
  {
   "cell_type": "code",
   "execution_count": 67,
   "metadata": {
    "collapsed": false
   },
   "outputs": [],
   "source": [
    "input_shape = dataset['train']['X'][0].shape\n",
    "# input layer\n",
    "l_in = lasagne.layers.InputLayer(shape=(None, input_shape[0], input_shape[1], input_shape[2]))\n",
    "# First convolutional layer\n",
    "l_conv1 = lasagne.layers.Conv2DLayer(l_in,\n",
    "    # Here, we set the number of filters and their size.\n",
    "    num_filters=32, \n",
    "    filter_size=(8, 8),\n",
    "    nonlinearity=lasagne.nonlinearities.rectify,\n",
    "    # Use He et. al.'s initialization\n",
    "    W=lasagne.init.HeNormal(gain='relu'))\n",
    "# Pool the layer with 2x2 Max pooling. Lasagne has the option to do mean pooling as well.\n",
    "l_pool1 = lasagne.layers.MaxPool2DLayer(l_conv1,pool_size=(2, 2))\n",
    "# The second convolution/pooling pair is the same as above.\n",
    "l_conv2 = lasagne.layers.Conv2DLayer(\n",
    "    l_pool1, num_filters=32, filter_size=(8, 8),\n",
    "    nonlinearity=lasagne.nonlinearities.rectify,\n",
    "    W=lasagne.init.HeNormal(gain='relu'))\n",
    "l_pool2 = lasagne.layers.MaxPool2DLayer(l_conv2, pool_size=(2, 2))\n",
    "# First hidden layer\n",
    "l_hidden1 = lasagne.layers.DenseLayer(\n",
    "    l_pool2, \n",
    "    # Why is the num_unit = 256 here? Seems arbitray.\n",
    "    num_units=196, \n",
    "    nonlinearity=lasagne.nonlinearities.rectify,\n",
    "    W=lasagne.init.HeNormal(gain='relu'))\n",
    "# Add a dropout layer to pervent over classification\n",
    "l_hidden1_dropout = lasagne.layers.DropoutLayer(l_hidden1, p=0.2)\n",
    "# Output layer. num of units = 10 because y can take a value from 0-9\n",
    "l_output = lasagne.layers.DenseLayer(\n",
    "    l_hidden1_dropout,\n",
    "    # The number of units in the softmas output layer is the number of classes.\n",
    "    num_units=10,\n",
    "    nonlinearity=lasagne.nonlinearities.softmax)"
   ]
  },
  {
   "cell_type": "code",
   "execution_count": 68,
   "metadata": {
    "collapsed": false
   },
   "outputs": [],
   "source": [
    "net_output = lasagne.layers.get_output(l_output)"
   ]
  },
  {
   "cell_type": "markdown",
   "metadata": {},
   "source": [
    "## Prepare training\n",
    "We define a loss function loss. As before, and is typical we are using the categorical crossentropy.\n",
    "For updates we will use Adaptive Learning Rate method for the Stocahstic Gradient Desent."
   ]
  },
  {
   "cell_type": "code",
   "execution_count": 69,
   "metadata": {
    "collapsed": false
   },
   "outputs": [],
   "source": [
    "true_output = T.ivector('true_output')\n",
    "loss = T.mean(lasagne.objectives.categorical_crossentropy(net_output, true_output))\n",
    "\n",
    "all_params = lasagne.layers.get_all_params(l_output)\n",
    "# Use ADADELTA for updates\n",
    "updates = lasagne.updates.adadelta(loss, all_params)\n",
    "train = theano.function([l_in.input_var, true_output], loss, updates=updates)\n",
    "\n",
    "# This is the function we'll use to compute the network's output given an input\n",
    "# (e.g., for computing accuracy).  Again, we don't want to apply dropout here\n",
    "# so we set the deterministic kwarg to True.\n",
    "get_output = theano.function([l_in.input_var],\n",
    "                             lasagne.layers.get_output(l_output, deterministic=True))"
   ]
  },
  {
   "cell_type": "markdown",
   "metadata": {},
   "source": [
    "# Training\n",
    "We will chop the training data into mini-batches, and compute the validation accuracy every epoch."
   ]
  },
  {
   "cell_type": "code",
   "execution_count": 70,
   "metadata": {
    "collapsed": false
   },
   "outputs": [
    {
     "name": "stdout",
     "output_type": "stream",
     "text": [
      "Batch 1, Batch 2, Batch 3, Batch 4, Batch 5, Batch 6, Batch 7, Batch 8, Batch 9, Batch 10, Batch 11, Batch 12, Batch 13, Batch 14, Batch 15, Batch 16, Batch 17, Batch 18, Batch 19, Batch 20, Batch 21, Batch 22, Batch 23, Batch 24, Batch 25, Batch 26, Batch 27, Batch 28, Batch 29, Batch 30, Batch 31, Batch 32, Batch 33, Batch 34, Batch 35, Batch 36, Batch 37, Batch 38, Batch 39, Batch 40, Batch 41, Batch 42, Batch 43, Batch 44, Batch 45, Batch 46, Batch 47, Batch 48, Batch 49, Batch 50, Batch 51, Batch 52, Batch 53, Batch 54, Batch 55, Batch 56, Batch 57, Batch 58, Batch 59, Batch 60, Batch 61, Batch 62, Batch 63, Batch 64, Batch 65, Batch 66, Batch 67, Batch 68, Batch 69, Batch 70, Batch 71, Batch 72, Batch 73, Batch 74, Batch 75, Batch 76, Batch 77, Batch 78, Batch 79, Batch 80, Batch 81, Batch 82, Batch 83, Batch 84, Batch 85, Batch 86, Batch 87, Batch 88, Batch 89, Batch 90, Batch 91, Batch 92, Batch 93, Batch 94, Batch 95, Batch 96, Batch 97, Batch 98, Batch 99, Batch 100, Epoch 1 validation accuracy: 0.9528\n",
      "Batch 1, Batch 2, Batch 3, Batch 4, Batch 5, Batch 6, Batch 7, Batch 8, Batch 9, Batch 10, Batch 11, Batch 12, Batch 13, Batch 14, Batch 15, Batch 16, Batch 17, Batch 18, Batch 19, Batch 20, Batch 21, Batch 22, Batch 23, Batch 24, Batch 25, Batch 26, Batch 27, Batch 28, Batch 29, Batch 30, Batch 31, Batch 32, Batch 33, Batch 34, Batch 35, Batch 36, Batch 37, Batch 38, Batch 39, Batch 40, Batch 41, Batch 42, Batch 43, Batch 44, Batch 45, Batch 46, Batch 47, Batch 48, Batch 49, Batch 50, Batch 51, Batch 52, Batch 53, Batch 54, Batch 55, Batch 56, Batch 57, Batch 58, Batch 59, Batch 60, Batch 61, Batch 62, Batch 63, Batch 64, Batch 65, Batch 66, Batch 67, Batch 68, Batch 69, Batch 70, Batch 71, Batch 72, Batch 73, Batch 74, Batch 75, Batch 76, Batch 77, Batch 78, Batch 79, Batch 80, Batch 81, Batch 82, Batch 83, Batch 84, Batch 85, Batch 86, Batch 87, Batch 88, Batch 89, Batch 90, Batch 91, Batch 92, Batch 93, Batch 94, Batch 95, Batch 96, Batch 97, Batch 98, Batch 99, Batch 100, Epoch 2 validation accuracy: 0.9679\n",
      "Batch 1, Batch 2, Batch 3, Batch 4, Batch 5, Batch 6, Batch 7, Batch 8, Batch 9, Batch 10, Batch 11, Batch 12, Batch 13, Batch 14, Batch 15, Batch 16, Batch 17, Batch 18, Batch 19, Batch 20, Batch 21, Batch 22, Batch 23, Batch 24, Batch 25, Batch 26, Batch 27, Batch 28, Batch 29, Batch 30, Batch 31, Batch 32, Batch 33, Batch 34, Batch 35, Batch 36, Batch 37, Batch 38, Batch 39, Batch 40, Batch 41, Batch 42, Batch 43, Batch 44, Batch 45, Batch 46, Batch 47, Batch 48, Batch 49, Batch 50, Batch 51, Batch 52, Batch 53, Batch 54, Batch 55, Batch 56, Batch 57, Batch 58, Batch 59, Batch 60, Batch 61, Batch 62, Batch 63, Batch 64, Batch 65, Batch 66, Batch 67, Batch 68, Batch 69, Batch 70, Batch 71, Batch 72, Batch 73, Batch 74, Batch 75, Batch 76, Batch 77, Batch 78, Batch 79, Batch 80, Batch 81, Batch 82, Batch 83, Batch 84, Batch 85, Batch 86, Batch 87, Batch 88, Batch 89, Batch 90, Batch 91, Batch 92, Batch 93, Batch 94, Batch 95, Batch 96, Batch 97, Batch 98, Batch 99, Batch 100, Epoch 3 validation accuracy: 0.9797\n",
      "Batch 1, Batch 2, Batch 3, Batch 4, Batch 5, Batch 6, Batch 7, Batch 8, Batch 9, Batch 10, Batch 11, Batch 12, Batch 13, Batch 14, Batch 15, Batch 16, Batch 17, Batch 18, Batch 19, Batch 20, Batch 21, Batch 22, Batch 23, Batch 24, Batch 25, Batch 26, Batch 27, Batch 28, Batch 29, Batch 30, Batch 31, Batch 32, Batch 33, Batch 34, Batch 35, Batch 36, Batch 37, Batch 38, Batch 39, Batch 40, Batch 41, Batch 42, Batch 43, Batch 44, Batch 45, Batch 46, Batch 47, Batch 48, Batch 49, Batch 50, Batch 51, Batch 52, Batch 53, Batch 54, Batch 55, Batch 56, Batch 57, Batch 58, Batch 59, Batch 60, Batch 61, Batch 62, Batch 63, Batch 64, Batch 65, Batch 66, Batch 67, Batch 68, Batch 69, Batch 70, Batch 71, Batch 72, Batch 73, Batch 74, Batch 75, Batch 76, Batch 77, Batch 78, Batch 79, Batch 80, Batch 81, Batch 82, Batch 83, Batch 84, Batch 85, Batch 86, Batch 87, Batch 88, Batch 89, Batch 90, Batch 91, Batch 92, Batch 93, Batch 94, Batch 95, Batch 96, Batch 97, Batch 98, Batch 99, Batch 100, Epoch 4 validation accuracy: 0.9748\n",
      "Batch 1, Batch 2, Batch 3, Batch 4, Batch 5, Batch 6, Batch 7, Batch 8, Batch 9, Batch 10, Batch 11, Batch 12, Batch 13, Batch 14, Batch 15, Batch 16, Batch 17, Batch 18, Batch 19, Batch 20, Batch 21, Batch 22, Batch 23, Batch 24, Batch 25, Batch 26, Batch 27, Batch 28, Batch 29, Batch 30, Batch 31, Batch 32, Batch 33, Batch 34, Batch 35, Batch 36, Batch 37, Batch 38, Batch 39, Batch 40, Batch 41, Batch 42, Batch 43, Batch 44, Batch 45, Batch 46, Batch 47, Batch 48, Batch 49, Batch 50, Batch 51, Batch 52, Batch 53, Batch 54, Batch 55, Batch 56, Batch 57, Batch 58, Batch 59, Batch 60, Batch 61, Batch 62, Batch 63, Batch 64, Batch 65, Batch 66, Batch 67, Batch 68, Batch 69, Batch 70, Batch 71, Batch 72, Batch 73, Batch 74, Batch 75, Batch 76, Batch 77, Batch 78, Batch 79, Batch 80, Batch 81, Batch 82, Batch 83, Batch 84, Batch 85, Batch 86, Batch 87, Batch 88, Batch 89, Batch 90, Batch 91, Batch 92, Batch 93, Batch 94, Batch 95, Batch 96, Batch 97, Batch 98, Batch 99, Batch 100, Epoch 5 validation accuracy: 0.9788\n"
     ]
    }
   ],
   "source": [
    "BATCH_SIZE = 500\n",
    "N_EPOCHS = 5\n",
    "# Keep track of which batch we're training with\n",
    "batch_idx = 0\n",
    "# Keep track of which epoch we're on\n",
    "epoch = 0\n",
    "while epoch < N_EPOCHS:\n",
    "    # Extract the training data/label batch and update the parameters with it\n",
    "    train(dataset['train']['X'][batch_idx:batch_idx + BATCH_SIZE],\n",
    "          dataset['train']['y'][batch_idx:batch_idx + BATCH_SIZE])\n",
    "    batch_idx += BATCH_SIZE\n",
    "    print(\"Batch {}, \".format(batch_idx/BATCH_SIZE),end=\"\")\n",
    "    # Once we've trained on the entire training set...\n",
    "    if batch_idx >= dataset['train']['X'].shape[0]:\n",
    "        # Reset the batch index\n",
    "        batch_idx = 0\n",
    "        # Update the number of epochs trained\n",
    "        epoch += 1\n",
    "        # Compute the network's output on the validation data\n",
    "        val_output = get_output(dataset['valid']['X'])\n",
    "        # The predicted class is just the index of the largest probability in the output\n",
    "        val_predictions = np.argmax(val_output, axis=1)\n",
    "        # The accuracy is the average number of correct predictions\n",
    "        accuracy = np.mean(val_predictions == dataset['valid']['y'])\n",
    "        print(\"Epoch {} validation accuracy: {}\".format(epoch, accuracy))"
   ]
  },
  {
   "cell_type": "code",
   "execution_count": null,
   "metadata": {
    "collapsed": true
   },
   "outputs": [],
   "source": []
  }
 ],
 "metadata": {
  "kernelspec": {
   "display_name": "Python 2",
   "language": "python",
   "name": "python2"
  },
  "language_info": {
   "codemirror_mode": {
    "name": "ipython",
    "version": 2
   },
   "file_extension": ".py",
   "mimetype": "text/x-python",
   "name": "python",
   "nbconvert_exporter": "python",
   "pygments_lexer": "ipython2",
   "version": "2.7.11"
  }
 },
 "nbformat": 4,
 "nbformat_minor": 0
}
